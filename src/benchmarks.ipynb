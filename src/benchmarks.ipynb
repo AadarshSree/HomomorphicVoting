{
 "cells": [
  {
   "cell_type": "markdown",
   "metadata": {},
   "source": [
    "## Performance Benchmarks"
   ]
  },
  {
   "cell_type": "code",
   "execution_count": 4,
   "metadata": {},
   "outputs": [],
   "source": [
    "import tenseal as ts\n",
    "import sqlite3\n",
    "import os"
   ]
  },
  {
   "cell_type": "code",
   "execution_count": 15,
   "metadata": {},
   "outputs": [],
   "source": [
    "# First let us create the CKKS Keys:\n",
    "# Make sure that the keys are not overwritten \n",
    "# as its used to encrypt the votes!\n",
    "\n",
    "\n",
    "if not os.path.exists('../keys/privateKey_ckks.hex'):\n",
    "    context_ckks = ts.context(\n",
    "                scheme=ts.SCHEME_TYPE.CKKS,\n",
    "                poly_modulus_degree=8192,\n",
    "                coeff_mod_bit_sizes=[60,40,40,60]\n",
    "            )\n",
    "    context_ckks.global_scale = 2**40\n",
    "    \n",
    "    #create a ckks encrypted vector\n",
    "    v1 = [0, 1, 2, 3, 4]\n",
    "    enc_v1 = ts.ckks_vector(context_ckks, v1)\n",
    "\n",
    "    serializedContextPrivate = context_ckks.serialize(save_secret_key=True)\n",
    "\n",
    "    scprivate_hex = serializedContextPrivate.hex()\n",
    "\n",
    "    #make context public\n",
    "    context_ckks.make_context_public()\n",
    "\n",
    "    serializedPublicContext = context_ckks.serialize()\n",
    "    scpublic_hex = serializedPublicContext.hex()\n",
    "\n",
    "    #write keys to file\n",
    "    f = open(\"../keys/privateKey_ckks.hex\", \"w\")\n",
    "    f.write(scprivate_hex)\n",
    "    f = open(\"../keys/publicKey_ckks.hex\", \"w\")\n",
    "    f.write(scprivate_hex)\n",
    "\n",
    "    f.close()\n",
    "\n",
    "\n"
   ]
  },
  {
   "cell_type": "code",
   "execution_count": null,
   "metadata": {},
   "outputs": [],
   "source": [
    "'''\n",
    "The following code is to generate the keys for BFV\n",
    "but we will not be running it since we have already created the KEY PAIRS for BFV\n",
    "\n",
    "if not os.path.exists('../keys/privateKey_bfv.hex'):\n",
    "    context_bfv = ts.context(ts.SCHEME_TYPE.BFV, poly_modulus_degree=4096, plain_modulus=18669569)\n",
    "\n",
    "    serializedContextPrivate = context_bfv.serialize(save_secret_key=True)\n",
    "\n",
    "    scprivate_hex = serializedContextPrivate.hex()\n",
    "\n",
    "    #make context public\n",
    "    context_bfv.make_context_public()\n",
    "\n",
    "    serializedPublicContext = context_bfv.serialize()\n",
    "    scpublic_hex = serializedPublicContext.hex()\n",
    "\n",
    "    #write keys to file\n",
    "    f = open(\"../keys/privateKey_bfv.hex\", \"w\")\n",
    "    f.write(scprivate_hex)\n",
    "    f = open(\"../keys/publicKey_bfv.hex\", \"w\")\n",
    "    f.write(scprivate_hex)\n",
    "\n",
    "    f.close()\n",
    "\n",
    "'''"
   ]
  },
  {
   "cell_type": "markdown",
   "metadata": {},
   "source": [
    "Let's us now mock 10000 votes and see how the \n",
    "performance compares between BVF and CKKS"
   ]
  },
  {
   "cell_type": "code",
   "execution_count": 230,
   "metadata": {},
   "outputs": [
    {
     "data": {
      "text/plain": [
       "10000"
      ]
     },
     "execution_count": 230,
     "metadata": {},
     "output_type": "execute_result"
    }
   ],
   "source": [
    "import random\n",
    "\n",
    "mockVotesRaw = []\n",
    "for i in random.sample(range(100001,999999),10000):\n",
    "    lrandom =  [i,0,0,0]\n",
    "    lrandom[random.randint(1,3)] = 1  \n",
    "\n",
    "    mockVotesRaw.append( lrandom )\n",
    "\n",
    "mockVotesRaw.__len__()\n"
   ]
  },
  {
   "cell_type": "code",
   "execution_count": 231,
   "metadata": {},
   "outputs": [],
   "source": [
    "list_of_ckks_vectors = []\n",
    "\n",
    "list_of_bfv_vectors = []\n",
    "\n",
    "\n",
    "\n",
    "# Let us now read the CKKS Context from the KEY File:\n",
    "with open('../keys/privateKey_ckks.hex', 'r') as f:\n",
    "    ckks_context= ts.context_from(bytes.fromhex(f.read()))\n",
    "\n",
    "# Similarly, let us read the BFV Context from the KEY File:\n",
    "with open('../keys/privateKey_bfv.hex', 'r') as f1:\n",
    "    bfv_context= ts.context_from(bytes.fromhex(f1.read()))\n",
    "\n",
    "for mv in mockVotesRaw:\n",
    "    #Let's now create the encrypted vectors for CKKS and BFV\n",
    "    list_of_ckks_vectors.append(ts.ckks_vector(ckks_context, mv))\n",
    "    list_of_bfv_vectors.append(ts.bfv_vector(bfv_context, mv))\n",
    "\n",
    "\n"
   ]
  },
  {
   "cell_type": "code",
   "execution_count": 261,
   "metadata": {},
   "outputs": [],
   "source": [
    "# Function to decrypt each VOTE and count the votes for CKKS\n",
    "\n",
    "def ckks_vote_tally(list_of_ckks_vectors, ckks_secret_key: ts.Context.secret_key):\n",
    "\n",
    "    sum_votes = [0,0,0,0]\n",
    "\n",
    "    for vote in list_of_ckks_vectors:\n",
    "        # dec_vote = [ round(rv) for rv in vote.decrypt(ckks_secret_key)[1:]]\n",
    "        # result = [list1[i] + list2[i] for i in range(len(small_list))]  #list(map(add, list1, list2)) \n",
    "        # print(dec_vote)\n",
    "        sum_votes = sum_votes + vote \n",
    "    \n",
    "    counted_result = [ round(rv) for rv in sum_votes.decrypt(ckks_secret_key)[1:]]\n",
    "\n",
    "\n",
    "    print(\"[*] CKKS VOTE TALLY:\", counted_result)\n",
    "\n",
    "    max_index = counted_result.index(max(counted_result))+1\n",
    "\n",
    "\n",
    "    if counted_result.count(max(counted_result)) == 1:\n",
    "        print(f\"[*] The Winner is: Candidate#{max_index}\")\n",
    "\n",
    "    else:\n",
    "        print(\"[*] There is a tie!\")\n",
    "    "
   ]
  },
  {
   "cell_type": "code",
   "execution_count": 262,
   "metadata": {},
   "outputs": [],
   "source": [
    "def bfv_vote_tally(list_of_bfv_vectors, bfv_secret_key: ts.Context.secret_key):\n",
    "\n",
    "    sum_votes = [0,0,0,0]\n",
    "\n",
    "    for vote in list_of_bfv_vectors:\n",
    "        sum_votes = sum_votes + vote \n",
    "    \n",
    "    counted_result = sum_votes.decrypt(bfv_secret_key)[1:]\n",
    "\n",
    "\n",
    "    print(\"[*] BFV VOTE TALLY:\", counted_result)\n",
    "\n",
    "    max_index = counted_result.index(max(counted_result))+1\n",
    "\n",
    "    if counted_result.count(max(counted_result)) == 1:\n",
    "        print(f\"[*] The Winner is: Candidate#{max_index}\")\n",
    "\n",
    "    else:\n",
    "        print(\"[*] There is a tie!\")"
   ]
  },
  {
   "cell_type": "code",
   "execution_count": 263,
   "metadata": {},
   "outputs": [],
   "source": [
    "def normal_list_tally(mockVotesRaw):\n",
    "\n",
    "    sum_votes = [0,0,0,0]\n",
    "    for r in mockVotesRaw:\n",
    "        sum_votes = [sum_votes[i] + r[i] for i in range(4)]\n",
    "    counted_result = sum_votes[1:]\n",
    "    print(\"[*] Normal VOTE TALLY:\", counted_result)\n",
    "    max_index = counted_result.index(max(counted_result))+1\n",
    "\n",
    "    if counted_result.count(max(counted_result)) == 1:\n",
    "        print(f\"[*] The Winner is: Candidate#{max_index}\")\n",
    "\n",
    "    else:\n",
    "        print(\"[*] There is a tie!\")"
   ]
  },
  {
   "cell_type": "code",
   "execution_count": 245,
   "metadata": {},
   "outputs": [
    {
     "name": "stdout",
     "output_type": "stream",
     "text": [
      "[*] CKKS VOTE TALLY: [3278, 3408, 3314]\n",
      "[*] The Winner is: Candidate#2\n"
     ]
    }
   ],
   "source": [
    "ckks_vote_tally(list_of_ckks_vectors, ckks_context.secret_key())\n",
    "# type(ckks_context.secret_key)\n",
    "# [ round(r) for r in list_of_ckks_vectors[0].decrypt(ckks_context.secret_key())[1:] ]"
   ]
  },
  {
   "cell_type": "code",
   "execution_count": 246,
   "metadata": {},
   "outputs": [
    {
     "name": "stdout",
     "output_type": "stream",
     "text": [
      "[*] BFV VOTE TALLY: [3278, 3408, 3314]\n",
      "[*] The Winner is: Candidate#2\n"
     ]
    }
   ],
   "source": [
    "bfv_vote_tally(list_of_bfv_vectors, bfv_context.secret_key())"
   ]
  },
  {
   "cell_type": "code",
   "execution_count": 247,
   "metadata": {},
   "outputs": [
    {
     "name": "stdout",
     "output_type": "stream",
     "text": [
      "[*] Normal VOTE TALLY: [3278, 3408, 3314]\n",
      "[*] The Winner is: Candidate#2\n"
     ]
    }
   ],
   "source": [
    "normal_list_tally(mockVotesRaw)"
   ]
  },
  {
   "cell_type": "markdown",
   "metadata": {},
   "source": [
    "### Performance Statistics"
   ]
  },
  {
   "cell_type": "code",
   "execution_count": 264,
   "metadata": {},
   "outputs": [
    {
     "name": "stdout",
     "output_type": "stream",
     "text": [
      "[*] CKKS VOTE TALLY: [3278, 3408, 3314]\n",
      "[*] The Winner is: Candidate#2\n",
      "[*] BFV VOTE TALLY: [3278, 3408, 3314]\n",
      "[*] The Winner is: Candidate#2\n",
      "[*] Normal VOTE TALLY: [3278, 3408, 3314]\n",
      "[*] The Winner is: Candidate#2\n",
      "\n",
      "CKKS Tally Execution time: 1000.8838176727295 ms\n",
      "BFV Tally Execution time: 464.5400047302246 ms\n",
      "Normal Tally Execution time: 3.8368701934814453 ms\n"
     ]
    }
   ],
   "source": [
    "import time\n",
    "\n",
    "exec_times = []\n",
    "# Measure execution time for function1\n",
    "start_time = time.time()\n",
    "ckks_vote_tally(list_of_ckks_vectors, ckks_context.secret_key())\n",
    "end_time = time.time()\n",
    "execution_time = (end_time - start_time) * 1000\n",
    "exec_times.append(execution_time)\n",
    "\n",
    "\n",
    "start_time = time.time()\n",
    "bfv_vote_tally(list_of_bfv_vectors, bfv_context.secret_key())\n",
    "end_time = time.time()\n",
    "execution_time = (end_time - start_time) * 1000\n",
    "exec_times.append(execution_time)\n",
    "\n",
    "\n",
    "start_time = time.time()\n",
    "normal_list_tally(mockVotesRaw)\n",
    "end_time = time.time()\n",
    "execution_time = (end_time - start_time) * 1000\n",
    "exec_times.append(execution_time)\n",
    "\n",
    "print(\"\\nCKKS Tally Execution time:\", exec_times[0], \"ms\")\n",
    "print(\"BFV Tally Execution time:\", exec_times[1], \"ms\")\n",
    "print(\"Normal Tally Execution time:\", exec_times[2], \"ms\")"
   ]
  },
  {
   "cell_type": "code",
   "execution_count": 265,
   "metadata": {},
   "outputs": [
    {
     "data": {
      "image/png": "[encoded data removed]",
      "text/plain": [
       "<Figure size 640x480 with 1 Axes>"
      ]
     },
     "metadata": {},
     "output_type": "display_data"
    },
    {
     "ename": "",
     "evalue": "",
     "output_type": "error",
     "traceback": [
      "\u001b[1;31mThe Kernel crashed while executing code in the current cell or a previous cell. \n",
      "\u001b[1;31mPlease review the code in the cell(s) to identify a possible cause of the failure. \n",
      "\u001b[1;31mClick <a href='https://aka.ms/vscodeJupyterKernelCrash'>here</a> for more info. \n",
      "\u001b[1;31mView Jupyter <a href='command:jupyter.viewOutput'>log</a> for further details."
     ]
    }
   ],
   "source": [
    "#Plot\n",
    "import matplotlib.pyplot as plt\n",
    "\n",
    "# List of function names\n",
    "labels = [\"CKKS\", \"BFV\", \"Normal\"]\n",
    "\n",
    "# Plot the execution times\n",
    "# plt.bar(labels, exec_times, color=['red','blue','green'])\n",
    "bars = plt.bar(labels, exec_times, color=['red','blue','green'])\n",
    "\n",
    "# Add labels and title\n",
    "plt.xlabel('Encryption Scheme')\n",
    "plt.ylabel('Execution Time (ms)')\n",
    "plt.title('Execution Time of Vote Tallying')\n",
    "\n",
    "# Overlay execution times on the bars\n",
    "for bar, time in zip(bars, exec_times):\n",
    "    plt.text(bar.get_x() + bar.get_width() / 2, bar.get_height(), f'{round(time)} ms', ha='center', va='bottom')\n",
    "\n",
    "# Display the plot\n",
    "plt.show()"
   ]
  },
  {
   "cell_type": "code",
   "execution_count": null,
   "metadata": {},
   "outputs": [],
   "source": []
  }
 ],
 "metadata": {
  "kernelspec": {
   "display_name": "fhe",
   "language": "python",
   "name": "python3"
  },
  "language_info": {
   "codemirror_mode": {
    "name": "ipython",
    "version": 3
   },
   "file_extension": ".py",
   "mimetype": "text/x-python",
   "name": "python",
   "nbconvert_exporter": "python",
   "pygments_lexer": "ipython3",
   "version": "3.9.6"
  }
 },
 "nbformat": 4,
 "nbformat_minor": 2
}
